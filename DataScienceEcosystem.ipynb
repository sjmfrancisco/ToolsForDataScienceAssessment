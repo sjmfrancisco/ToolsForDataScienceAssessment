{
 "cells": [
  {
   "cell_type": "markdown",
   "id": "997cde4b-31b9-45ad-b3b6-0bd91e4baaf6",
   "metadata": {},
   "source": [
    "# Data Science Tools and Ecosystem"
   ]
  },
  {
   "cell_type": "markdown",
   "id": "fd5442f2-8838-4e21-9dde-1dde6e0f11e1",
   "metadata": {},
   "source": [
    "## "
   ]
  },
  {
   "cell_type": "markdown",
   "id": "f54f8f7b-7e61-403f-a23a-ff7b9da33175",
   "metadata": {},
   "source": [
    "In this notebook, Data Science Tools and Ecosystem are summarized."
   ]
  },
  {
   "cell_type": "markdown",
   "id": "3fcb027a-02a7-4bcb-9e3a-e262664b272b",
   "metadata": {},
   "source": [
    "Objectives:\n",
    "- List popular languages used in Data Science\n",
    "- List popular Data Science libraries\n",
    "- Show examples of arithmetic expressions in Python."
   ]
  },
  {
   "cell_type": "markdown",
   "id": "7e82db3b-0c88-454b-ad7b-66406613688a",
   "metadata": {},
   "source": [
    "Some of the popular languages that Data Scientists use are:\n",
    "1. Python\n",
    "2. R\n",
    "3. SQL\n",
    "4. Java"
   ]
  },
  {
   "cell_type": "markdown",
   "id": "db152d1a-f2e2-4b63-9558-fc3d70fb6b1d",
   "metadata": {},
   "source": [
    "Some of the libraries commonly used by Data Scientists include:\n",
    "1. Pandas\n",
    "2. NumPy\n",
    "3. ggplot2\n",
    "4. Keras\n",
    "   "
   ]
  },
  {
   "cell_type": "markdown",
   "id": "15899485-fe3c-4b32-816e-50a772de8f4a",
   "metadata": {},
   "source": [
    "| Data Science Tools |\n",
    "|-------|\n",
    "| mySQL |\n",
    "| Hue |\n",
    "| GitHub |\n",
    "| Jupyter |"
   ]
  },
  {
   "cell_type": "markdown",
   "id": "bb5c49a2-9664-45fd-8fb8-b2043b7f7744",
   "metadata": {},
   "source": [
    "### Below are a few examples of evaluating arithmetic expressions in Python."
   ]
  },
  {
   "cell_type": "code",
   "execution_count": 8,
   "id": "cb5c5d59-870c-48e3-9e71-f7afb69edf78",
   "metadata": {},
   "outputs": [
    {
     "data": {
      "text/plain": [
       "17"
      ]
     },
     "execution_count": 8,
     "metadata": {},
     "output_type": "execute_result"
    }
   ],
   "source": [
    "# This is a simple arithmetic expression to multiply and add integers.\n",
    "(3*4)+5"
   ]
  },
  {
   "cell_type": "code",
   "execution_count": 10,
   "id": "24bd00a5-2566-4589-826c-162f1c62989d",
   "metadata": {},
   "outputs": [
    {
     "data": {
      "text/plain": [
       "3.3333333333333335"
      ]
     },
     "execution_count": 10,
     "metadata": {},
     "output_type": "execute_result"
    }
   ],
   "source": [
    "# This will convert 200 minutes to hours by dividing by 60.\n",
    "200/60"
   ]
  },
  {
   "cell_type": "code",
   "execution_count": null,
   "id": "ad2695d0-3109-4ff4-8c12-e8d057836260",
   "metadata": {},
   "outputs": [],
   "source": []
  }
 ],
 "metadata": {
  "kernelspec": {
   "display_name": "Python 3 (ipykernel)",
   "language": "python",
   "name": "python3"
  },
  "language_info": {
   "codemirror_mode": {
    "name": "ipython",
    "version": 3
   },
   "file_extension": ".py",
   "mimetype": "text/x-python",
   "name": "python",
   "nbconvert_exporter": "python",
   "pygments_lexer": "ipython3",
   "version": "3.12.4"
  }
 },
 "nbformat": 4,
 "nbformat_minor": 5
}
